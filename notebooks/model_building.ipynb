{
 "cells": [
  {
   "cell_type": "markdown",
   "metadata": {},
   "source": [
    "Build a regression model."
   ]
  },
  {
   "cell_type": "code",
   "execution_count": null,
   "metadata": {},
   "outputs": [],
   "source": [
   "import statsmodels.api as sm\n",
    "\n",
    "features = df[['Latitudes', 'Longitudes']]\n",
    "\n",
    "features = sm.add_constant(features)\n",
    "\n",
    "target = df['Number of Available Bikes']\n",
    "\n",
    "model = sm.OLS(target, features)\n",
    "\n",
    "results = model.fit()\n"
   ]
  },
  {
   "cell_type": "markdown",
   "metadata": {},
   "source": [
    "Provide model output and an interpretation of the results. "
   ]
  },
  {
   "cell_type": "code",
   "execution_count": null,
   "metadata": {},
   "outputs": [],
   "source": [
"print(results.summary())"
   ]
  },
  {
   "cell_type": "markdown",
   "metadata": {},
   "source": [
    "# Stretch"
   ]
  },
  {
   "cell_type": "markdown",
   "metadata": {},
   "source": [
    "How can you turn the regression model into a classification model?"
   ]
  },
  {
   "cell_type": "code",
   "execution_count": null,
   "metadata": {},
   "outputs": [],
   "source": [
        "import statsmodels.api as sm\n",
        "import pandas as pd\n",
        "from sklearn.model_selection import train_test_split\n",
        "from sklearn.metrics import accuracy_score, classification_report\n",
        "\n",
         "features = df[['Latitudes', 'Longitudes']]\n",
        "\n",
        "features = sm.add_constant(features)\n",
        "\n",
        "target = df['Number of Available Bikes']\n",
        "\n",
        "model = sm.OLS(target, features)\n",
        "\n",
        "results = model.fit()\n",
        "\n",
        "predictions = results.predict(features)\n",
        "\n",
        "threshold = 0.5\n",
        "predicted_classes = (predictions > threshold).astype(int)\n",
        "\n",
        "actual_classes = (target > threshold).astype(int)\n",
        "\n",
        "accuracy = accuracy_score(actual_classes, predicted_classes)\n",
        "classification_report_output = classification_report(actual_classes, predicted_classes)\n",
        "\n",
        "print(f\"Accuracy: {accuracy}\")\n",
        "print(\"Classification Report:\\n\", classification_report_output)"
     
   ]
  }
 ],
 "metadata": {
  "kernelspec": {
   "display_name": "Python 3",
   "language": "python",
   "name": "python3"
  },
  "language_info": {
   "codemirror_mode": {
    "name": "ipython",
    "version": 3
   },
   "file_extension": ".py",
   "mimetype": "text/x-python",
   "name": "python",
   "nbconvert_exporter": "python",
   "pygments_lexer": "ipython3",
   "version": "3.8.5"
  }
 },
 "nbformat": 4,
 "nbformat_minor": 4
}
