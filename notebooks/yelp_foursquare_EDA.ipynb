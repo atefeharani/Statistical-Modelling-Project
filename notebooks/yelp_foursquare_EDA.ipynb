{
 "cells": [
  {
   "cell_type": "code",
   "execution_count": null,
   "metadata": {},
   "outputs": [],
   "source": [
    "# imports"
   ]
  },
  {
   "cell_type": "markdown",
   "metadata": {},
   "source": [
    "# Foursquare"
   ]
  },
  {
   "cell_type": "markdown",
   "metadata": {},
   "source": [
    "Send a request to Foursquare with a small radius (1000m) for all the bike stations in your city of choice. "
   ]
  },
  {
   "cell_type": "code",
   "execution_count": null,
   "metadata": {},
   "outputs": [],
   "source": [
"# Foursquare API request\n",
    "import requests\n",
    "\n",
    "# Foursquare API credentials\n",
    "client_id = 'XRE0S0B3T2I2IOZNA3FQLPO52LJBCONQHSW5TYPIX2BX5RLM'\n",
    "client_secret = 'UDMTB32WT5RCTF5EOF01MN0XY4W5GWRWGKRSIGZJP24TMFKY'\n",
    "v = '20231010'\n",
    "ll = '43.653226,-79.3831843'  # Toronto\n",
    "radius = 1000\n",
    "\n",
    "# Foursquare API request\n",
    "url = 'https://api.foursquare.com/v2/venues/explore'\n",
    "\n",
    "# Foursquare API parameters\n",
    "params = {\n",
    "    'client_id': client_id,\n",
    "    'client_secret': client_secret,\n",
    "    'v': v,\n",
    "    'll': ll,\n",
    "    'limit': 50,\n",
    "    'radius': radius\n",
    "}\n",
    "\n",
    "# Send request to Foursquare\n",
    "resp = requests.get(url=url, params=params)\n",
    "\n",
    "# Parse the response as JSON\n",
    "data = resp.json()\n",
    "\n",
    "# Display the Foursquare response\n",
    "data"

   ]
  },
  
  {
   "cell_type": "markdown",
   "metadata": {},
   "source": [
    "Parse through the response to get the POI (such as restaurants, bars, etc) details you want (ratings, name, location, etc)"
   ]
  },
  {
   "cell_type": "code",
   "execution_count": null,
   "metadata": {},
   "outputs": [],
   "source": [
    "client_id = \"XRE0S0B3T2I2IOZNA3FQLPO52LJBCONQHSW5TYPIX2BX5RLM\"\n",
    "client_secret = \"UDMTB32WT5RCTF5EOF01MN0XY4W5GWRWGKRSIGZJP24TMFKY\"\n",
    "v = '20180323'\n",
    "\n",
    "location = '43.653226,-79.3831843' # Toronto \n",
    "url = 'https://api.foursquare.com/v2/venues/explore'\n",
    "\n",
    "params = {\n",
    "    'client_id': client_id,\n",
    "    'client_secret': client_secret,\n",
    "    'v': v,\n",
    "    'll': location,\n",
    "    'query': 'restaurant',\n",
    "    'limit': 50,\n",
    "    'radius': 1000\n",
    "}\n",
    "\n",
    "resp = requests.get(url=url, params=params)\n",
    "data = resp.json()\n"
   ]
  },
  {
   "cell_type": "code",
   "execution_count": null,
   "metadata": {},
   "outputs": [],
   "source": [
"url = 'https://api.foursquare.com/v2/venues/explore'\n",
"all_restaurants = []\n",
    "for restaurant in data['response']['groups'][0]['items']:\n",
    "    id_restaurant = restaurant['venue']['id']\n",
    "\n",
    "    url = f'https://api.foursquare.com/v2/venues/{id_restaurant}'\n",
    "    params = {\n",
    "        'client_id': client_id,\n",
    "        'client_secret': client_secret,\n",
    "        'v': v\n",
    "    }\n",
    "\n",
    "    resp = requests.get(url=url, params=params)\n",
    "\n",
    "    if resp.status_code == 200:\n",
    "        restaurant_data = resp.json()\n",
    "        venue = restaurant_data['response']['venue']\n",
    "\n",
    "        all_restaurants.append(\n",
    "            {\n",
    "            'name': venue['name'],\n",
    "            'address': ', '.join(venue['location']['formattedAddress']),\n",
    "            #'url': venue['url'],\n",
    "            'price_category': venue['price']['tier'] if venue.get('price') else None,\n",
    "            'likes': venue['likes']['count'],\n",
    "            'rating': venue['rating'],\n",
    "            'api': 'foursquare',\n",
    "        })\n",
    "\n",
    "# Display the parsed details for restaurants in Toronto\n",
    "all_restaurants\n"
   ]
  },
  {
   "cell_type": "markdown",
   "metadata": {},
   "source": [
    "Put your parsed results into a DataFrame"
   ]
  },
  {
   "cell_type": "code",
   "execution_count": null,
   "metadata": {},
   "outputs": [],
   "source": [
"df_fs = pd.DataFrame(all_restaurants)\n"
   ]
  },
  {
   "cell_type": "markdown",
   "metadata": {},
   "source": [
    "# Yelp"
   ]
  },
  {
   "cell_type": "markdown",
   "metadata": {},
   "source": [
    "Send a request to Yelp with a small radius (1000m) for all the bike stations in your city of choice. "
   ]
  },
  {
   "cell_type": "code",
   "execution_count": null,
   "metadata": {},
   "outputs": [],
   "source": [
 "import requests\n",
       "\n",
       "api_key = \"cFFfkZl10-YC0eRoV3TuuH5C3jnbXdUm9ZkF7xm_S2abcOI4dz678UhWbmcYtmjnOp2I9TmISOw3j5S-Pjhgd46kFGqBHL4Z40BeLo6xBskKc5URK5AZMTw8fct-ZXYx\"\n",
       "url = 'https://api.yelp.com/v3/businesses/search'\n",
       "headers = {\n",
       "    'Authorization': f'Bearer {api_key}'\n",
       "}\n",
       "params = {\n",
       "    'term': 'bike stations',\n",
       "    'location':  '40.7243,-74.0018',  # NYC\n",
       "    'radius': 1000\n",
       "}\n",
       "\n",
       "response = requests.get(url, headers=headers, params=params)\n",
       "data = response.json()\n",
       "data \n"


   ]
  },
  {
   "cell_type": "markdown",
   "metadata": {},
   "source": [
    "Parse through the response to get the POI (such as restaurants, bars, etc) details you want (ratings, name, location, etc)"
   ]
  },
  {
   "cell_type": "code",
   "execution_count": null,
   "metadata": {},
   "outputs": [],
   "source": []
  },
  {
   "cell_type": "markdown",
   "metadata": {},
   "source": [
    "Put your parsed results into a DataFrame"
   ]
  },
  {
   "cell_type": "markdown",
   "metadata": {},
   "source": [
   ]
  },
  {
   "cell_type": "markdown",
   "metadata": {},
   "source": [
    "# Comparing Results"
   ]
  },
  {
   "cell_type": "markdown",
   "metadata": {},
   "source": [
    "Which API provided you with more complete data? Provide an explanation. "
   ]
  },
  {
   "cell_type": "markdown",
   "metadata": {},
   "source": []
  },
  {
   "cell_type": "markdown",
   "metadata": {},
   "source": [
    "Get the top 10 restaurants according to their rating"
   ]
  },
  {
   "cell_type": "code",
   "execution_count": null,
   "metadata": {},
   "outputs": [],
   "source": []
  }
 ],
 "metadata": {
  "kernelspec": {
   "display_name": "Python 3",
   "language": "python",
   "name": "python3"
  },
  "language_info": {
   "codemirror_mode": {
    "name": "ipython",
    "version": 3
   },
   "file_extension": ".py",
   "mimetype": "text/x-python",
   "name": "python",
   "nbconvert_exporter": "python",
   "pygments_lexer": "ipython3",
   "version": "3.8.5"
  }
 },
 "nbformat": 4,
 "nbformat_minor": 4
}
