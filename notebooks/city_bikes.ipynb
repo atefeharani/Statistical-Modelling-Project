{
 "cells": [
  {
   "cell_type": "markdown",
   "metadata": {},
   "source": [
    "# CityBikes"
   ]
  },
  {
   "cell_type": "markdown",
   "metadata": {},
   "source": [
    "Send a request to CityBikes for the city of your choice. "
   ]
  },
  {
   "cell_type": "code",
   "execution_count": null,
   "metadata": {},
   "outputs": [],
   "source": [
 "import requests\n",
    "\n",
    "url = \"http://api.citybik.es/v2/networks/bixi-toronto\"\n",
    "response = requests.get(url)\n",
    "\n",
    "data = response.json()\n",
    "data"
   ]
  },
  {
   "cell_type": "markdown",
   "metadata": {},
   "source": [
    "Parse through the response to get the details you want for the bike stations in that city (latitude, longitude, number of bikes). "
   ]
  },
  {
   "cell_type": "code",
   "execution_count": null,
   "metadata": {},
   "outputs": [],
   "source": [
"stations = data.get(\"network\", {}).get(\"stations\", [])\n",
    "\n",
    "station_names = []\n",
    "latitudes = []\n",
    "longitudes = []\n",
    "num_bikes = []\n",
    "\n",
    "for station in stations:\n",
    "    station_names.append(station.get(\"name\", \"N/A\"))\n",
    "    latitudes.append(station.get(\"latitude\", \"N/A\"))\n",
    "    longitudes.append(station.get(\"longitude\", \"N/A\"))\n",
    "    num_bikes.append(station.get(\"free_bikes\", \"N/A\"))\n",
    "\n",
    "print(\"Station Names:\", station_names)\n",
    "print(\"Latitudes:\", latitudes)\n",
    "print(\"Longitudes:\", longitudes)\n",
    "print(\"Number of Available Bikes:\", num_bikes)"
   ]
  },
  {
   "cell_type": "markdown",
   "metadata": {},
   "source": [
    "Put your parsed results into a DataFrame."
   ]
  },
  {
   "cell_type": "code",
   "execution_count": null,
   "metadata": {},
   "outputs": [],
   "source": ["import pandas as pd\n",
    "\n",
     "df = pd.DataFrame({\n",
    "    'Station Names': station_names,\n",
    "    'Latitudes': latitudes,\n",
    "    'Longitudes': longitudes,\n",
    "    'Number of Available Bikes': num_bikes\n",
    "})\n",
    "\n",
    "df.head()" 
   ]
  },
  {
   "cell_type": "markdown",
   "metadata": {},
   "source": [
   ]
  },
  {
   "cell_type": "code",
   "execution_count": null,
   "metadata": {},
   "outputs": [],
   "source": [
    "from IPython.display import Image\n",
   "Image(filename='DataFrame.PNG')"
     ]
  }
 ],
 "metadata": {
  "kernelspec": {
   "display_name": "Python 3",
   "language": "python",
   "name": "python3"
  },
  "language_info": {
   "codemirror_mode": {
    "name": "ipython",
    "version": 3
   },
   "file_extension": ".py",
   "mimetype": "text/x-python",
   "name": "python",
   "nbconvert_exporter": "python",
   "pygments_lexer": "ipython3",
   "version": "3.8.5"
  }
 },
 "nbformat": 4,
 "nbformat_minor": 4
}
